{
 "cells": [
  {
   "cell_type": "code",
   "execution_count": null,
   "metadata": {},
   "outputs": [],
   "source": [
    "import numpy as np\n",
    "import matplotlib.pyplot as plt\n",
    "%matplotlib inline\n",
    "import cv2"
   ]
  },
  {
   "cell_type": "code",
   "execution_count": null,
   "metadata": {},
   "outputs": [],
   "source": [
    "from PIL import Image"
   ]
  },
  {
   "cell_type": "code",
   "execution_count": null,
   "metadata": {},
   "outputs": [],
   "source": [
    "pic=Image. open('class2.jpg')"
   ]
  },
  {
   "cell_type": "code",
   "execution_count": null,
   "metadata": {},
   "outputs": [],
   "source": [
    "type(pic)"
   ]
  },
  {
   "cell_type": "code",
   "execution_count": null,
   "metadata": {},
   "outputs": [],
   "source": [
    "pic_arr=np.asarray(pic)"
   ]
  },
  {
   "cell_type": "code",
   "execution_count": null,
   "metadata": {},
   "outputs": [],
   "source": [
    "type(pic_arr)"
   ]
  },
  {
   "cell_type": "code",
   "execution_count": null,
   "metadata": {},
   "outputs": [],
   "source": [
    "pic_arr.shape"
   ]
  },
  {
   "cell_type": "code",
   "execution_count": null,
   "metadata": {},
   "outputs": [],
   "source": [
    "plt.imshow(pic_arr)"
   ]
  },
  {
   "cell_type": "code",
   "execution_count": null,
   "metadata": {},
   "outputs": [],
   "source": [
    "pic_red=pic_arr.copy()"
   ]
  },
  {
   "cell_type": "code",
   "execution_count": null,
   "metadata": {},
   "outputs": [],
   "source": [
    "plt.imshow(pic_red)"
   ]
  },
  {
   "cell_type": "code",
   "execution_count": null,
   "metadata": {
    "scrolled": true
   },
   "outputs": [],
   "source": [
    "#R G B\n",
    "plt.imshow(pic_red[:,:,0])"
   ]
  },
  {
   "cell_type": "code",
   "execution_count": null,
   "metadata": {},
   "outputs": [],
   "source": [
    "#R G B\n",
    "#red channel value 0-255\n",
    "#255- full pure red. 0- no red\n",
    "plt.imshow(pic_red[:,:,0],cmap='gray')"
   ]
  },
  {
   "cell_type": "code",
   "execution_count": null,
   "metadata": {},
   "outputs": [],
   "source": [
    "plt.imshow(pic_red[:,:,1],cmap='gray')"
   ]
  },
  {
   "cell_type": "code",
   "execution_count": null,
   "metadata": {},
   "outputs": [],
   "source": [
    "plt.imshow(pic_red[:, :,2])"
   ]
  },
  {
   "cell_type": "code",
   "execution_count": null,
   "metadata": {},
   "outputs": [],
   "source": [
    "# mask out green channel\n",
    "pic_red[:,:,1]=0\n",
    "plt.imshow(pic_red) #combination of blue and red"
   ]
  },
  {
   "cell_type": "code",
   "execution_count": null,
   "metadata": {},
   "outputs": [],
   "source": [
    "a=np.arange(0,100).reshape(10,10)\n",
    "a"
   ]
  },
  {
   "cell_type": "code",
   "execution_count": null,
   "metadata": {},
   "outputs": [],
   "source": []
  },
  {
   "cell_type": "code",
   "execution_count": null,
   "metadata": {},
   "outputs": [],
   "source": [
    "a[0,1]"
   ]
  },
  {
   "cell_type": "code",
   "execution_count": null,
   "metadata": {},
   "outputs": [],
   "source": [
    "mat=np.arange(0,30).reshape(3,10)"
   ]
  },
  {
   "cell_type": "code",
   "execution_count": null,
   "metadata": {},
   "outputs": [],
   "source": [
    "mat"
   ]
  },
  {
   "cell_type": "code",
   "execution_count": null,
   "metadata": {},
   "outputs": [],
   "source": [
    "mat[0,1]"
   ]
  },
  {
   "cell_type": "code",
   "execution_count": null,
   "metadata": {},
   "outputs": [],
   "source": [
    "mat[:,1]=0\n",
    "mat"
   ]
  },
  {
   "cell_type": "code",
   "execution_count": null,
   "metadata": {},
   "outputs": [],
   "source": [
    "import cv2"
   ]
  },
  {
   "cell_type": "code",
   "execution_count": null,
   "metadata": {},
   "outputs": [],
   "source": [
    "import os\n",
    "os.sys.path"
   ]
  },
  {
   "cell_type": "code",
   "execution_count": null,
   "metadata": {},
   "outputs": [],
   "source": [
    "pic=cv2.imread('yo.jpg')"
   ]
  },
  {
   "cell_type": "code",
   "execution_count": null,
   "metadata": {},
   "outputs": [],
   "source": [
    "pic"
   ]
  },
  {
   "cell_type": "code",
   "execution_count": null,
   "metadata": {},
   "outputs": [],
   "source": [
    "type(pic)"
   ]
  },
  {
   "cell_type": "code",
   "execution_count": null,
   "metadata": {},
   "outputs": [],
   "source": [
    "pic.shape"
   ]
  },
  {
   "cell_type": "code",
   "execution_count": null,
   "metadata": {},
   "outputs": [],
   "source": [
    "plt.imshow(pic)\n",
    "# open cv and mtplotlib expect different order of img colors\n",
    "#mt plot lib -> rgb\n",
    "# open cv--> blue green read\n",
    "# colours get mixed"
   ]
  },
  {
   "cell_type": "code",
   "execution_count": null,
   "metadata": {},
   "outputs": [],
   "source": [
    "img=cv2.cvtColor(pic,cv2.COLOR_BGR2RGB) #change it from blue green red to red green blue"
   ]
  },
  {
   "cell_type": "code",
   "execution_count": null,
   "metadata": {},
   "outputs": [],
   "source": [
    "plt.imshow(img) #open cv reads as blue green red and matplotlib reads as red green blue there's why there's confusion"
   ]
  },
  {
   "cell_type": "code",
   "execution_count": null,
   "metadata": {},
   "outputs": [],
   "source": [
    "img_gray=cv2.imread('yo.jpg',cv2.IMREAD_GRAYSCALE)"
   ]
  },
  {
   "cell_type": "code",
   "execution_count": null,
   "metadata": {},
   "outputs": [],
   "source": [
    "img_gray.shape"
   ]
  },
  {
   "cell_type": "code",
   "execution_count": null,
   "metadata": {},
   "outputs": [],
   "source": [
    "img_gray.min()"
   ]
  },
  {
   "cell_type": "code",
   "execution_count": null,
   "metadata": {},
   "outputs": [],
   "source": [
    "plt.imshow(img_gray) #default colour maping doesn't show as gray and white"
   ]
  },
  {
   "cell_type": "code",
   "execution_count": null,
   "metadata": {},
   "outputs": [],
   "source": [
    "plt.imshow(img_gray,cmap='gray')"
   ]
  },
  {
   "cell_type": "code",
   "execution_count": null,
   "metadata": {},
   "outputs": [],
   "source": [
    "#resizing images\n",
    "print(pic.shape,\" \", img.shape)\n",
    "new=cv2.resize(img,(400,500))"
   ]
  },
  {
   "cell_type": "code",
   "execution_count": null,
   "metadata": {},
   "outputs": [],
   "source": [
    "plt.imshow(new)"
   ]
  },
  {
   "cell_type": "code",
   "execution_count": null,
   "metadata": {},
   "outputs": [],
   "source": [
    "w_ratio=0.8\n",
    "h_ratio=0.2\n",
    "new=cv2.resize(img,(0,0),img,w_ratio,h_ratio)\n",
    "plt.imshow(new)"
   ]
  },
  {
   "cell_type": "code",
   "execution_count": null,
   "metadata": {},
   "outputs": [],
   "source": [
    "print(new.shape)\n",
    "print(pic.shape) \n",
    "#reduced to 50%"
   ]
  },
  {
   "cell_type": "code",
   "execution_count": null,
   "metadata": {},
   "outputs": [],
   "source": [
    "new_img= cv2.flip(img,0) #horizontal axis\n",
    "plt.imshow(new_img)"
   ]
  },
  {
   "cell_type": "code",
   "execution_count": null,
   "metadata": {},
   "outputs": [],
   "source": [
    "new_img= cv2.flip(img,1) #vertical axis\n",
    "plt.imshow(new_img)"
   ]
  },
  {
   "cell_type": "code",
   "execution_count": null,
   "metadata": {},
   "outputs": [],
   "source": [
    "new_img= cv2.flip(img,-1) #\n",
    "plt.imshow(new_img)"
   ]
  },
  {
   "cell_type": "code",
   "execution_count": null,
   "metadata": {},
   "outputs": [],
   "source": [
    "type(new_img)"
   ]
  },
  {
   "cell_type": "code",
   "execution_count": null,
   "metadata": {},
   "outputs": [],
   "source": [
    "cv2.imwrite('newbilli.jpg',new_img)"
   ]
  },
  {
   "cell_type": "code",
   "execution_count": null,
   "metadata": {},
   "outputs": [],
   "source": [
    "fig=plt.figure(figsize=(10,8))\n",
    "ax=fig.add_subplot(111)\n",
    "ax.imshow(img)"
   ]
  },
  {
   "cell_type": "code",
   "execution_count": null,
   "metadata": {},
   "outputs": [],
   "source": [
    "import cv2\n",
    "img= cv2.imread('yo.jpg')\n",
    "cv2.imshow('cat',img)\n",
    "cv2.waitKey()"
   ]
  },
  {
   "cell_type": "code",
   "execution_count": 1,
   "metadata": {},
   "outputs": [],
   "source": [
    "import cv2\n",
    "img= cv2.imread('yo.jpg')\n",
    "while True:\n",
    "    cv2.imshow('cat',img)\n",
    "\n",
    "    if cv2.waitKey(1) &0XFF==27:\n",
    "        break\n",
    "cv2.destroyAllWindows()"
   ]
  },
  {
   "cell_type": "code",
   "execution_count": null,
   "metadata": {},
   "outputs": [],
   "source": [
    "blank_img=np.zeros(shape=(515,512,3),dtype=np.int16)"
   ]
  },
  {
   "cell_type": "code",
   "execution_count": null,
   "metadata": {},
   "outputs": [],
   "source": [
    "blank_img.shape"
   ]
  },
  {
   "cell_type": "code",
   "execution_count": null,
   "metadata": {},
   "outputs": [],
   "source": [
    "plt.imshow(blank_img)"
   ]
  },
  {
   "cell_type": "code",
   "execution_count": null,
   "metadata": {},
   "outputs": [],
   "source": [
    "cv2.rectangle(blank_img,pt1=(384,0),pt2=(500,150),color=(0,255,0),thickness=10) #top right corner and bottom right corner #x,y"
   ]
  },
  {
   "cell_type": "code",
   "execution_count": null,
   "metadata": {},
   "outputs": [],
   "source": [
    "plt.imshow(blank_img)"
   ]
  },
  {
   "cell_type": "code",
   "execution_count": null,
   "metadata": {},
   "outputs": [],
   "source": [
    "cv2.rectangle(blank_img,pt1=(200,200),pt2=(300,300),color=(255,0,0),thickness=10)data:image/png;base64,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"
   ]
  },
  {
   "cell_type": "code",
   "execution_count": null,
   "metadata": {},
   "outputs": [],
   "source": [
    "plt.imshow(blank_img)"
   ]
  },
  {
   "cell_type": "code",
   "execution_count": null,
   "metadata": {},
   "outputs": [],
   "source": [
    "cv2.circle(img=blank_img,center=(100,100),radius=50,color=(255,0,255),thickness=8)\n",
    "plt.imshow(blank_img)"
   ]
  },
  {
   "cell_type": "code",
   "execution_count": null,
   "metadata": {},
   "outputs": [],
   "source": [
    "cv2.circle(img=blank_img,center=(400,400),radius=50,color=(255,0,255),thickness=-1)\n",
    "plt.imshow(blank_img) # megative number will fill the colour"
   ]
  },
  {
   "cell_type": "code",
   "execution_count": null,
   "metadata": {},
   "outputs": [],
   "source": [
    "cv2.line(img=blank_img,pt1=(0,0),pt2=(512,512),color=(255,0,255),thickness=5)\n",
    "plt.imshow(blank_img)"
   ]
  },
  {
   "cell_type": "code",
   "execution_count": null,
   "metadata": {},
   "outputs": [],
   "source": [
    "font=cv2.FONT_HERSHEY_SIMPLEX\n",
    "cv2.putText(blank_img,text='hello',org=(10,500),fontFace=font,fontScale=4,color=(255,255,255),thickness=3,lineType=cv2.LINE_AA)\n",
    "plt.imshow(blank_img)"
   ]
  },
  {
   "cell_type": "code",
   "execution_count": null,
   "metadata": {},
   "outputs": [],
   "source": [
    "img=np.zeros(shape=(512,521,3),dtype=np.int32)"
   ]
  },
  {
   "cell_type": "code",
   "execution_count": null,
   "metadata": {},
   "outputs": [],
   "source": [
    "vertices=np.array([[100,300],[200,200],[400,300],[200,400]],dtype=np.int32)"
   ]
  },
  {
   "cell_type": "code",
   "execution_count": null,
   "metadata": {},
   "outputs": [],
   "source": [
    "vertices.shape"
   ]
  },
  {
   "cell_type": "code",
   "execution_count": null,
   "metadata": {},
   "outputs": [],
   "source": [
    "pts=vertices.reshape(-1,1,2)"
   ]
  },
  {
   "cell_type": "code",
   "execution_count": null,
   "metadata": {},
   "outputs": [],
   "source": [
    "pts"
   ]
  },
  {
   "cell_type": "code",
   "execution_count": null,
   "metadata": {},
   "outputs": [],
   "source": [
    "cv2.polylines(blank,[pts],isClosed=True,color=(255,0,0),thickness=5)\n",
    "plt.imshow(blank)"
   ]
  },
  {
   "cell_type": "code",
   "execution_count": null,
   "metadata": {},
   "outputs": [],
   "source": [
    "#####################\n",
    "## FUNCTION ##\n",
    "#####################\n",
    "def draw_circle(event,x,y,flags,param):\n",
    "    if event==cv2.EVENT_LBUTTONDOWN:\n",
    "        cv2.circle(img,(x,y),100,(0,255,255),-1)\n",
    "    elif event==cv2.EVENT_RBUTTONDOWN:\n",
    "      \n",
    "        cv2.circle(img,(x,y),100,(255,255,255),-1)\n",
    "cv2.namedWindow(winname='my_draing')\n",
    "cv2.setMouseCallback('my_draing',draw_circle)\n",
    "\n",
    "################################\n",
    "## SHOWING IMAGE W OPEN CV\n",
    "################################\n",
    "img=np.zeros((512,512,3))\n",
    "while True:\n",
    "    cv2.imshow('my_draing',img)\n",
    "    if cv2.waitKey(1) & 0xFF ==27:\n",
    "        break\n",
    "cv2.destroyAllWindows"
   ]
  },
  {
   "cell_type": "code",
   "execution_count": null,
   "metadata": {},
   "outputs": [],
   "source": [
    "import cv2\n",
    "import numpy as np\n",
    "def draw_circle(event,x,y,flags,param):\n",
    "   \n",
    "    if event == cv2.EVENT_RBUTTONDOWN:\n",
    "        cv2.circle(img,(x,y),100,(0,255,0),thickness=5)\n",
    "img=cv2.imread('yo.jpg')\n",
    "cv2.namedWindow(winname='yo')\n",
    "cv2.setMouseCallback('yo',draw_circle)\n",
    "\n",
    "while True:\n",
    "    cv2.imshow('yo',img)\n",
    "\n",
    "    if cv2.waitKey(1) &0XFF==27:\n",
    "        break\n",
    "cv2.destroyAllWindows()"
   ]
  },
  {
   "cell_type": "code",
   "execution_count": null,
   "metadata": {},
   "outputs": [],
   "source": [
    "import numpy as np\n",
    "import cv2\n",
    "\n",
    "#VARIALBL\n",
    " \n",
    "    #true when mouse button down false when mouse button up\n",
    "drawing =False\n",
    "ix,iy=-1,-1\n",
    "\n",
    "#FUNCTION\n",
    "def draw_rect(event,x,y,flags,prams):\n",
    "    global ix,iy,drawing\n",
    "    if event==cv2.EVENT_LBUTTONDOWN:\n",
    "        drawing= True\n",
    "        ix,iy=x,y\n",
    "    elif event==cv2.EVENT_MOUSEMOVE:\n",
    "        if drawing ==True:\n",
    "            cv2.rectangle(img,(ix,iy),(x,y),(0,255,0),-1)\n",
    "    elif event==cv2.EVENT_LBUTTONUP:\n",
    "        drawing= False\n",
    "        cv2.rectangle(img,(ix,iy),(x,y),(0,255,0),-1)\n",
    "            #SHOWING THE IMG\n",
    "\n",
    "#BLACK\n",
    "img=np.zeros((512,512,3))\n",
    "cv2.namedWindow(winname='my_drawing')\n",
    "cv2.setMouseCallback('my_drawing',draw_rect)\n",
    "while True:\n",
    "    cv2.imshow('my_drawing',img)\n",
    "    \n",
    "    if cv2.waitKey(1) & 0xFF ==27:\n",
    "        break\n",
    "cv2.DestroyAllWindows()"
   ]
  },
  {
   "cell_type": "code",
   "execution_count": null,
   "metadata": {},
   "outputs": [],
   "source": [
    "img=cv2.imread('yo.jpg')"
   ]
  },
  {
   "cell_type": "code",
   "execution_count": null,
   "metadata": {},
   "outputs": [],
   "source": [
    "plt.imshow(img)\n"
   ]
  },
  {
   "cell_type": "code",
   "execution_count": null,
   "metadata": {},
   "outputs": [],
   "source": [
    "img=cv2.cvtColor(img,cv2.COLOR_BGR2RGB)\n",
    "plt.imshow(img)"
   ]
  },
  {
   "cell_type": "code",
   "execution_count": null,
   "metadata": {},
   "outputs": [],
   "source": [
    "fliped=cv2.flip(img,-1)\n",
    "plt.imshow(fliped)"
   ]
  },
  {
   "cell_type": "code",
   "execution_count": null,
   "metadata": {},
   "outputs": [],
   "source": [
    "img=cv2.rectangle(img,pt1=(200,100),pt2=(400,300),color=(0,255,0),thickness=10)\n",
    "plt.imshow(img)\n",
    "#cv2.rectangle(blank_img,pt1=(200,200),pt2=(300,300),color=(255,0,0),thickness=10)"
   ]
  },
  {
   "cell_type": "code",
   "execution_count": null,
   "metadata": {},
   "outputs": [],
   "source": [
    "vertices=np.array([[300,90],[200,300],[500,300]],dtype=np.int32)\n",
    "vertices.shape"
   ]
  },
  {
   "cell_type": "code",
   "execution_count": null,
   "metadata": {},
   "outputs": [],
   "source": [
    "pt=vertices.reshape(-1,1,2)"
   ]
  },
  {
   "cell_type": "code",
   "execution_count": null,
   "metadata": {},
   "outputs": [],
   "source": [
    "cv2.polylines(img,[pt],isClosed=True,color=(255,0,0),thickness=5)\n",
    "plt.imshow(img)\n",
    "#cv2.polylines(blank,[pts],isClosed=True,color=(255,0,0),thickness=-5)\n",
    "#plt.imshow(blank)"
   ]
  },
  {
   "cell_type": "code",
   "execution_count": null,
   "metadata": {},
   "outputs": [],
   "source": [
    "cv2.fillPoly(img,[pt],color=(255,0,0))\n",
    "plt.imshow(img)"
   ]
  },
  {
   "cell_type": "code",
   "execution_count": null,
   "metadata": {},
   "outputs": [],
   "source": []
  }
 ],
 "metadata": {
  "kernelspec": {
   "display_name": "Python 3",
   "language": "python",
   "name": "python3"
  },
  "language_info": {
   "codemirror_mode": {
    "name": "ipython",
    "version": 3
   },
   "file_extension": ".py",
   "mimetype": "text/x-python",
   "name": "python",
   "nbconvert_exporter": "python",
   "pygments_lexer": "ipython3",
   "version": "3.7.1"
  }
 },
 "nbformat": 4,
 "nbformat_minor": 2
}
